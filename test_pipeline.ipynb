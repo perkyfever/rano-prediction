{
 "cells": [
  {
   "cell_type": "code",
   "execution_count": 1,
   "id": "11eb63d9",
   "metadata": {},
   "outputs": [],
   "source": [
    "import os\n",
    "from pathlib import Path\n",
    "\n",
    "import sys\n",
    "sys.path.append(Path(os.getcwd()).parent.as_posix())\n",
    "\n",
    "import warnings\n",
    "warnings.filterwarnings(\"ignore\")"
   ]
  },
  {
   "cell_type": "code",
   "execution_count": 2,
   "id": "cc91f151",
   "metadata": {},
   "outputs": [],
   "source": [
    "import torch\n",
    "import torch.nn as nn\n",
    "\n",
    "import monai.transforms as mt\n",
    "\n",
    "from utils import RANDOM_SEED\n",
    "from dataset import ReorganizeTransform, get_trainval_dataloaders\n",
    "from training import test_model_correctness, calculate_params, MetricLogger, default_process, run_training\n",
    "from models import BaselineModel\n",
    "\n",
    "from focal_loss import FocalLoss"
   ]
  },
  {
   "cell_type": "code",
   "execution_count": 3,
   "id": "d96e15f3",
   "metadata": {},
   "outputs": [],
   "source": [
    "%load_ext autoreload\n",
    "%autoreload 2"
   ]
  },
  {
   "cell_type": "markdown",
   "id": "afa8990e",
   "metadata": {},
   "source": [
    "# Setting up GPU"
   ]
  },
  {
   "cell_type": "code",
   "execution_count": 4,
   "id": "48503432",
   "metadata": {},
   "outputs": [],
   "source": [
    "os.environ[\"CUDA_VISIBLE_DEVICES\"] = \"6\""
   ]
  },
  {
   "cell_type": "code",
   "execution_count": 5,
   "id": "cbffd644",
   "metadata": {},
   "outputs": [
    {
     "data": {
      "text/plain": [
       "device(type='cuda')"
      ]
     },
     "execution_count": 5,
     "metadata": {},
     "output_type": "execute_result"
    }
   ],
   "source": [
    "device = torch.device(\"cuda\" if torch.cuda.is_available() else \"cpu\")\n",
    "device"
   ]
  },
  {
   "cell_type": "markdown",
   "id": "7092ce11",
   "metadata": {},
   "source": [
    "# Datasets"
   ]
  },
  {
   "cell_type": "code",
   "execution_count": 6,
   "id": "faada11e",
   "metadata": {},
   "outputs": [],
   "source": [
    "DATA_PATH = Path(os.getcwd()) / \"data\" / \"preprocessed_data\""
   ]
  },
  {
   "cell_type": "markdown",
   "id": "1e2dbb32",
   "metadata": {},
   "source": [
    "### Transforms"
   ]
  },
  {
   "cell_type": "code",
   "execution_count": 7,
   "id": "9b9ed3b2",
   "metadata": {},
   "outputs": [],
   "source": [
    "baseline_image_keys = [\"baseline_FLAIR\", \"baseline_T1\", \"baseline_T1CE\", \"baseline_T2\", \"baseline_seg\"]\n",
    "followup_image_keys = [\"followup_FLAIR\", \"followup_T1\", \"followup_T1CE\", \"followup_T2\", \"followup_seg\"]\n",
    "keys = baseline_image_keys + followup_image_keys\n",
    "\n",
    "required_keys = [\"T1\", \"T1CE\", \"T2\", \"FLAIR\", \"seg\"]\n",
    "baseline_keys = [f\"baseline_{key}\" for key in required_keys]\n",
    "followup_keys = [f\"followup_{key}\" for key in required_keys]\n",
    "all_image_keys = baseline_keys + followup_keys\n",
    "\n",
    "transform = mt.Compose([\n",
    "    mt.LoadImaged(keys=all_image_keys),\n",
    "    # mt.EnsureChannelFirstd(keys=keys),\n",
    "    mt.EnsureTyped(keys=all_image_keys),\n",
    "    mt.Spacingd(keys=[key for key in keys if \"seg\" in key], pixdim=(1.0, 1.0, 1.0), mode=\"nearest\"),\n",
    "    mt.Spacingd(keys=[key for key in keys if \"seg\" not in key], pixdim=(1.0, 1.0, 1.0), mode=(\"bilinear\")),\n",
    "    mt.NormalizeIntensityd(keys=all_image_keys, nonzero=True, channel_wise=True),\n",
    "    ReorganizeTransform(required_keys=required_keys)\n",
    "]).set_random_state(seed=RANDOM_SEED)"
   ]
  },
  {
   "cell_type": "markdown",
   "id": "2b4fff84",
   "metadata": {},
   "source": [
    "### Dataloaders"
   ]
  },
  {
   "cell_type": "code",
   "execution_count": 8,
   "id": "7989b259",
   "metadata": {},
   "outputs": [],
   "source": [
    "NUM_WORKERS = 4\n",
    "TRAIN_BATCH_SIZE = 8\n",
    "VALID_BATCH_SIZE = 32\n",
    "RESAMPLE = True\n",
    "RESAMPLE_TEMPERATURE = 1.0\n",
    "\n",
    "train_loader, valid_loader = get_trainval_dataloaders(\n",
    "    data_path=DATA_PATH,\n",
    "    train_batch_size=TRAIN_BATCH_SIZE,\n",
    "    valid_batch_size=VALID_BATCH_SIZE,\n",
    "    num_workers=NUM_WORKERS,\n",
    "    train_transform=transform,\n",
    "    valid_transform=transform,\n",
    "    resample=RESAMPLE,\n",
    "    temperature=RESAMPLE_TEMPERATURE\n",
    ")"
   ]
  },
  {
   "cell_type": "code",
   "execution_count": 9,
   "id": "4c93a022",
   "metadata": {},
   "outputs": [
    {
     "data": {
      "text/plain": [
       "(36, 3)"
      ]
     },
     "execution_count": 9,
     "metadata": {},
     "output_type": "execute_result"
    }
   ],
   "source": [
    "len(train_loader), len(valid_loader)"
   ]
  },
  {
   "cell_type": "markdown",
   "id": "f0de7127",
   "metadata": {},
   "source": [
    "# Architecture"
   ]
  },
  {
   "cell_type": "code",
   "execution_count": 10,
   "id": "9d6e3782",
   "metadata": {},
   "outputs": [],
   "source": [
    "EMBED_DIM = 64\n",
    "NUM_CHANNELS = 218\n",
    "DROPOUT = 0"
   ]
  },
  {
   "cell_type": "code",
   "execution_count": 11,
   "id": "f50127e9",
   "metadata": {},
   "outputs": [],
   "source": [
    "from torchvision.models import resnet18\n",
    "\n",
    "def get_encoder():\n",
    "    encoder = resnet18(\n",
    "        pretrained=False,\n",
    "        num_classes=EMBED_DIM\n",
    "    )\n",
    "    encoder.conv1 = nn.Conv2d(\n",
    "        in_channels=NUM_CHANNELS,\n",
    "        out_channels=64,\n",
    "        kernel_size=7,\n",
    "        stride=2,\n",
    "        padding=3\n",
    "    )\n",
    "    return encoder"
   ]
  },
  {
   "cell_type": "code",
   "execution_count": 12,
   "id": "a1e5aae0",
   "metadata": {},
   "outputs": [],
   "source": [
    "model = BaselineModel(\n",
    "    encoder=get_encoder,\n",
    "    emb_dim=EMBED_DIM,\n",
    "    dropout=DROPOUT,\n",
    "    logits=False,\n",
    "    image_keys=[\"T1CE\", \"T2\"]\n",
    ")"
   ]
  },
  {
   "cell_type": "code",
   "execution_count": 13,
   "id": "e17c0fac",
   "metadata": {},
   "outputs": [
    {
     "data": {
      "text/plain": [
       "'23.78 M'"
      ]
     },
     "execution_count": 13,
     "metadata": {},
     "output_type": "execute_result"
    }
   ],
   "source": [
    "calculate_params(model)"
   ]
  },
  {
   "cell_type": "code",
   "execution_count": 14,
   "id": "cf26f19e",
   "metadata": {},
   "outputs": [
    {
     "name": "stdout",
     "output_type": "stream",
     "text": [
      "MODEL SEEMS TO BE FINE!\n"
     ]
    }
   ],
   "source": [
    "test_model_correctness(\n",
    "    model=model,\n",
    "    loader=train_loader,\n",
    "    process_fn=default_process,\n",
    "    device=device\n",
    ")"
   ]
  },
  {
   "cell_type": "markdown",
   "id": "fbfed793",
   "metadata": {},
   "source": [
    "# Training"
   ]
  },
  {
   "cell_type": "code",
   "execution_count": 15,
   "id": "503a0ead",
   "metadata": {},
   "outputs": [],
   "source": [
    "NUM_EPOCHS = 30\n",
    "WEIGHT_DECAY = 0.0\n",
    "LEARNING_RATE = 3e-4\n",
    "\n",
    "LOSS_GAMMA = 2.0\n",
    "LOSS_ALPHA = None"
   ]
  },
  {
   "cell_type": "code",
   "execution_count": 16,
   "id": "3ce2c8c6",
   "metadata": {},
   "outputs": [],
   "source": [
    "model = BaselineModel(\n",
    "    encoder=get_encoder,\n",
    "    emb_dim=EMBED_DIM,\n",
    "    dropout=DROPOUT,\n",
    "    logits=False,\n",
    "    image_keys=[\"T1CE\", \"T2\"]\n",
    ")\n",
    "optimizer = torch.optim.AdamW(model.parameters(), lr=LEARNING_RATE, weight_decay=WEIGHT_DECAY)\n",
    "loss_fn = FocalLoss(weights=LOSS_ALPHA, gamma=LOSS_GAMMA)\n",
    "scheduler = torch.optim.lr_scheduler.CosineAnnealingLR(optimizer=optimizer, T_max=NUM_EPOCHS, eta_min=1e-6)\n",
    "\n",
    "metric_logger = MetricLogger(logits=False)\n",
    "metric_logger.reset()"
   ]
  },
  {
   "cell_type": "code",
   "execution_count": null,
   "id": "2b5ce2b3",
   "metadata": {},
   "outputs": [
    {
     "name": "stderr",
     "output_type": "stream",
     "text": [
      "  0%|          | 0/30 [00:00<?, ?it/s]"
     ]
    }
   ],
   "source": [
    "train_logs, valid_logs = run_training(\n",
    "    run_name=\"test_3\",\n",
    "    epochs=NUM_EPOCHS,\n",
    "    model=model,\n",
    "    train_loader=train_loader,\n",
    "    valid_loader=valid_loader,\n",
    "    loss_fn=loss_fn,\n",
    "    optimizer=optimizer,\n",
    "    device=device,\n",
    "    process_fn=default_process,\n",
    "    metric_logger=metric_logger,\n",
    "    batch_accum=1,\n",
    "    wandb_logging=False,\n",
    "    scheduler=scheduler,\n",
    "    scheduler_step=\"epoch\",\n",
    "    make_checkpoints=True,\n",
    "    checkpoint_freq=1\n",
    ")"
   ]
  },
  {
   "cell_type": "code",
   "execution_count": null,
   "id": "e5cd572a",
   "metadata": {},
   "outputs": [],
   "source": []
  }
 ],
 "metadata": {
  "kernelspec": {
   "display_name": "mri",
   "language": "python",
   "name": "python3"
  },
  "language_info": {
   "codemirror_mode": {
    "name": "ipython",
    "version": 3
   },
   "file_extension": ".py",
   "mimetype": "text/x-python",
   "name": "python",
   "nbconvert_exporter": "python",
   "pygments_lexer": "ipython3",
   "version": "3.11.13"
  }
 },
 "nbformat": 4,
 "nbformat_minor": 5
}
